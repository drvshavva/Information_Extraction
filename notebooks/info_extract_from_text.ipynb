{
 "cells": [
  {
   "cell_type": "code",
   "execution_count": 1,
   "metadata": {},
   "outputs": [],
   "source": [
    "# import libraries\n",
    "from src.info_extraction.__constants import Regex, Default, Tables\n",
    "from src.info_extraction.operations import extract, extract_verb"
   ]
  },
  {
   "cell_type": "code",
   "execution_count": 2,
   "metadata": {},
   "outputs": [],
   "source": [
    "text = \"Sabahın soğuk rüzgârını ensesinde hissettiği anda titremeye başlamıştı Minik Oğlan. Sabahları evden çıkıp \" \\\n",
    "       \"yürüyüş yapmaya bayılırdı; yol boyunca gördüğü kedileri sever, ağaçların altında dikilip dallarına doğru \" \\\n",
    "       \"bakardı. Yaşadığı yerde yaz mevsimi dahi oldukça soğuk geçerdi, bu yüzden de üstünden montu eksik olmazdı. \" \\\n",
    "       \"Gelgelelim, hep emekli kesimin yaşadığı bir yerde oturuyorlardı, bundan ötürü hiç yaşıt arkadaşı olmamıştı. \""
   ]
  },
  {
   "cell_type": "markdown",
   "metadata": {},
   "source": [
    "# Nasıl ?"
   ]
  },
  {
   "cell_type": "code",
   "execution_count": 3,
   "metadata": {},
   "outputs": [
    {
     "name": "stdout",
     "output_type": "stream",
     "text": [
      "Data is read. Len of the data 4317 and columns Index(['sıfatlar'], dtype='object')\n"
     ]
    },
    {
     "data": {
      "text/plain": [
       "['oğlan', 'minik', 'soğuk']"
      ]
     },
     "execution_count": 3,
     "metadata": {},
     "output_type": "execute_result"
    }
   ],
   "source": [
    "extract(text, Tables.ADJ, default=Default.ADJ)"
   ]
  },
  {
   "cell_type": "markdown",
   "metadata": {},
   "source": [
    "# Ne yaptı ?"
   ]
  },
  {
   "cell_type": "code",
   "execution_count": 4,
   "metadata": {},
   "outputs": [
    {
     "name": "stdout",
     "output_type": "stream",
     "text": [
      "Data is read. Len of the data 533 and columns Index(['fiiller'], dtype='object')\n"
     ]
    },
    {
     "data": {
      "text/plain": [
       "['hissettigi',\n",
       " 'baslamisti',\n",
       " 'yasadigi',\n",
       " 'yasadigi',\n",
       " 'oturuyorlardi',\n",
       " 'olmamisti']"
      ]
     },
     "execution_count": 4,
     "metadata": {},
     "output_type": "execute_result"
    }
   ],
   "source": [
    "extract_verb(text)"
   ]
  },
  {
   "cell_type": "markdown",
   "metadata": {},
   "source": [
    "# Nerede"
   ]
  },
  {
   "cell_type": "code",
   "execution_count": 5,
   "metadata": {},
   "outputs": [
    {
     "name": "stdout",
     "output_type": "stream",
     "text": [
      "Data is read. Len of the data 2304 and columns Index(['yer'], dtype='object')\n"
     ]
    },
    {
     "data": {
      "text/plain": [
       "['evden',\n",
       " 'yol',\n",
       " 'yerde',\n",
       " 'yerde',\n",
       " 'ensesinde ',\n",
       " 'anda ',\n",
       " 'evden',\n",
       " 'altinda ',\n",
       " 'yerde ',\n",
       " 'yuzden',\n",
       " 'ustunden',\n",
       " 'yerde ',\n",
       " 'bundan']"
      ]
     },
     "execution_count": 5,
     "metadata": {},
     "output_type": "execute_result"
    }
   ],
   "source": [
    "extract(text, Tables.PLACE, default=Default.PLACE, special_reg=Regex.PLACE)"
   ]
  },
  {
   "cell_type": "markdown",
   "metadata": {},
   "source": [
    "# Ne zaman?"
   ]
  },
  {
   "cell_type": "code",
   "execution_count": 6,
   "metadata": {},
   "outputs": [
    {
     "name": "stdout",
     "output_type": "stream",
     "text": [
      "Data is read. Len of the data 4181 and columns Index(['0'], dtype='object')\n"
     ]
    },
    {
     "data": {
      "text/plain": [
       "['yaz', 'eksik', 'emekli']"
      ]
     },
     "execution_count": 6,
     "metadata": {},
     "output_type": "execute_result"
    }
   ],
   "source": [
    "extract(text, Tables.WHEN, special_reg=Regex.WHEN)"
   ]
  },
  {
   "cell_type": "markdown",
   "metadata": {},
   "source": [
    "# Neden ?"
   ]
  },
  {
   "cell_type": "code",
   "execution_count": 7,
   "metadata": {},
   "outputs": [
    {
     "name": "stdout",
     "output_type": "stream",
     "text": [
      "Data is read. Len of the data 4320 and columns Index(['0'], dtype='object')\n"
     ]
    },
    {
     "data": {
      "text/plain": [
       "['sever', 'emekli', 'bundan oturu']"
      ]
     },
     "execution_count": 7,
     "metadata": {},
     "output_type": "execute_result"
    }
   ],
   "source": [
    "extract(text, Tables.WHY, special_reg=Regex.WHY)"
   ]
  },
  {
   "cell_type": "markdown",
   "metadata": {},
   "source": [
    "# Ne olur ?"
   ]
  },
  {
   "cell_type": "code",
   "execution_count": 8,
   "metadata": {},
   "outputs": [
    {
     "name": "stdout",
     "output_type": "stream",
     "text": [
      "Data is read. Len of the data 4320 and columns Index(['0'], dtype='object')\n"
     ]
    },
    {
     "data": {
      "text/plain": [
       "['sever', 'emekli']"
      ]
     },
     "execution_count": 8,
     "metadata": {},
     "output_type": "execute_result"
    }
   ],
   "source": [
    "extract(text, Tables.WHAT, default=Default.WHAT)"
   ]
  },
  {
   "cell_type": "markdown",
   "metadata": {},
   "source": [
    "#  Kim ?"
   ]
  },
  {
   "cell_type": "code",
   "execution_count": 9,
   "metadata": {},
   "outputs": [
    {
     "name": "stdout",
     "output_type": "stream",
     "text": [
      "Data is read. Len of the data 1898 and columns Index(['kim'], dtype='object')\n"
     ]
    },
    {
     "data": {
      "text/plain": [
       "['oğlan', 'minik', 'ensesinde', 'hissettiği', 'titremeye', 'anda', 'sabahın']"
      ]
     },
     "execution_count": 9,
     "metadata": {},
     "output_type": "execute_result"
    }
   ],
   "source": [
    " extract(text, Tables.WHO, default=Default.WHO)"
   ]
  }
 ],
 "metadata": {
  "kernelspec": {
   "display_name": "Python 3",
   "language": "python",
   "name": "python3"
  },
  "language_info": {
   "codemirror_mode": {
    "name": "ipython",
    "version": 3
   },
   "file_extension": ".py",
   "mimetype": "text/x-python",
   "name": "python",
   "nbconvert_exporter": "python",
   "pygments_lexer": "ipython3",
   "version": "3.7.7"
  }
 },
 "nbformat": 4,
 "nbformat_minor": 4
}
